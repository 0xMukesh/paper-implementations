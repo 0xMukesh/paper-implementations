{
 "cells": [
  {
   "cell_type": "code",
   "execution_count": 9,
   "id": "baa1ca88",
   "metadata": {},
   "outputs": [],
   "source": [
    "from torchvision import transforms\n",
    "from torchvision import datasets\n",
    "from torch.utils.data import DataLoader\n",
    "import matplotlib.pyplot as plt"
   ]
  },
  {
   "cell_type": "code",
   "execution_count": 4,
   "id": "d77a65b6",
   "metadata": {},
   "outputs": [],
   "source": [
    "dataset = datasets.CIFAR10(root=\"data\", train=True, download=True, transform=transforms.ToTensor())\n",
    "loader = DataLoader(dataset, batch_size=1000, shuffle=False)"
   ]
  },
  {
   "cell_type": "code",
   "execution_count": 10,
   "id": "4085b425",
   "metadata": {},
   "outputs": [
    {
     "name": "stdout",
     "output_type": "stream",
     "text": [
      "tensor([0.4914, 0.4822, 0.4465]) tensor([0.2023, 0.1994, 0.2010])\n"
     ]
    }
   ],
   "source": [
    "mean = 0.\n",
    "std = 0.\n",
    "total_images = 0\n",
    "\n",
    "for images, _ in loader:\n",
    "    batch_size = images.size(0)\n",
    "    channels = images.size(1)\n",
    "\n",
    "    images = images.view(batch_size, channels, -1) # (B, C, H * W)\n",
    "\n",
    "    mean += images.mean(2).sum(0)\n",
    "    std += images.std(2).sum(0)\n",
    "    total_images += batch_size\n",
    "\n",
    "mean /= total_images\n",
    "std /= total_images\n",
    "\n",
    "print(mean, std)\n"
   ]
  }
 ],
 "metadata": {
  "kernelspec": {
   "display_name": ".venv",
   "language": "python",
   "name": "python3"
  },
  "language_info": {
   "codemirror_mode": {
    "name": "ipython",
    "version": 3
   },
   "file_extension": ".py",
   "mimetype": "text/x-python",
   "name": "python",
   "nbconvert_exporter": "python",
   "pygments_lexer": "ipython3",
   "version": "3.13.3"
  }
 },
 "nbformat": 4,
 "nbformat_minor": 5
}
