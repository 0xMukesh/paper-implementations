{
 "cells": [
  {
   "cell_type": "code",
   "execution_count": 1,
   "id": "e94bf0e5",
   "metadata": {},
   "outputs": [],
   "source": [
    "import torch\n",
    "from torch.utils.data import DataLoader\n",
    "from torchvision.transforms import transforms as T\n",
    "from yolo.dataset import VOCDataset\n",
    "from yolo.model import ARCH_CONFIG, YOLOv1\n",
    "from yolo.utils import cell_to_img_relative\n",
    "\n",
    "train_transform = T.Compose([T.Resize((448, 448)), T.ToTensor()])\n",
    "train_dataset = VOCDataset(\n",
    "    root=\"data/voc\", csv_file=\"train.csv\", transform=train_transform, header=0\n",
    ")\n",
    "train_loader = DataLoader(\n",
    "    dataset=train_dataset,\n",
    "    batch_size=3,\n",
    "    shuffle=False,\n",
    "    num_workers=2,\n",
    "    pin_memory=True,\n",
    ")\n",
    "\n",
    "model = YOLOv1(ARCH_CONFIG)"
   ]
  },
  {
   "cell_type": "code",
   "execution_count": 2,
   "id": "4df96899",
   "metadata": {},
   "outputs": [
    {
     "name": "stderr",
     "output_type": "stream",
     "text": [
      "/home/mukesh/dev/paper-implementations/.venv/lib/python3.13/site-packages/torch/utils/data/dataloader.py:665: UserWarning: 'pin_memory' argument is set as true but no accelerator is found, then device pinned memory won't be used.\n",
      "  warnings.warn(warn_msg)\n"
     ]
    }
   ],
   "source": [
    "import torchvision.transforms.functional as FT \n",
    "\n",
    "torch.set_printoptions(threshold=100_000)\n",
    "\n",
    "for img, labels in train_loader:\n",
    "    for i in range(3):\n",
    "        FT.to_pil_image(img[i]).show()\n",
    "    break"
   ]
  }
 ],
 "metadata": {
  "kernelspec": {
   "display_name": "paper-implementations",
   "language": "python",
   "name": "python3"
  },
  "language_info": {
   "codemirror_mode": {
    "name": "ipython",
    "version": 3
   },
   "file_extension": ".py",
   "mimetype": "text/x-python",
   "name": "python",
   "nbconvert_exporter": "python",
   "pygments_lexer": "ipython3",
   "version": "3.13.5"
  }
 },
 "nbformat": 4,
 "nbformat_minor": 5
}
