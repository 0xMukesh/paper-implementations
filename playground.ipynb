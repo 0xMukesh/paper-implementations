{
 "cells": [
  {
   "cell_type": "code",
   "execution_count": 1,
   "id": "305cdff9",
   "metadata": {},
   "outputs": [
    {
     "data": {
      "text/plain": [
       "torch.Size([1, 2, 512, 512])"
      ]
     },
     "execution_count": 1,
     "metadata": {},
     "output_type": "execute_result"
    }
   ],
   "source": [
    "import torch\n",
    "from unet.models.attention_unet import AttentionUNet\n",
    "\n",
    "x = torch.randn((1, 1, 512, 512))\n",
    "model = AttentionUNet(in_channels=1, num_classes=2)\n",
    "out = model.forward(x)\n",
    "\n",
    "out.shape\n"
   ]
  }
 ],
 "metadata": {
  "kernelspec": {
   "display_name": ".venv",
   "language": "python",
   "name": "python3"
  },
  "language_info": {
   "codemirror_mode": {
    "name": "ipython",
    "version": 3
   },
   "file_extension": ".py",
   "mimetype": "text/x-python",
   "name": "python",
   "nbconvert_exporter": "python",
   "pygments_lexer": "ipython3",
   "version": "3.13.7"
  }
 },
 "nbformat": 4,
 "nbformat_minor": 5
}
