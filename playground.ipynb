{
 "cells": [
  {
   "cell_type": "code",
   "execution_count": 1,
   "id": "c0190ac2",
   "metadata": {},
   "outputs": [
    {
     "data": {
      "text/plain": [
       "tensor([[ 1.4353,  0.5069,  1.1213],\n",
       "        [ 1.7138,  1.2129, -0.0827],\n",
       "        [ 1.4353,  0.5069,  1.1213],\n",
       "        [ 1.7138,  1.2129, -0.0827],\n",
       "        [ 1.3170, -1.0902,  1.3017],\n",
       "        [ 0.1481, -0.5107, -0.7174],\n",
       "        [ 0.1481, -0.5107, -0.7174],\n",
       "        [-0.1898, -1.5758,  0.2957],\n",
       "        [ 1.3170, -1.0902,  1.3017],\n",
       "        [ 1.3170, -1.0902,  1.3017]], grad_fn=<EmbeddingBackward0>)"
      ]
     },
     "execution_count": 1,
     "metadata": {},
     "output_type": "execute_result"
    }
   ],
   "source": [
    "import torch\n",
    "import torch.nn as nn\n",
    "\n",
    "embed = nn.Embedding(5, 3)\n",
    "random = torch.randint(low=0, high=5, size=(10,), dtype=torch.long)\n",
    "embedding = embed(random)\n",
    "embedding\n"
   ]
  }
 ],
 "metadata": {
  "kernelspec": {
   "display_name": ".venv",
   "language": "python",
   "name": "python3"
  },
  "language_info": {
   "codemirror_mode": {
    "name": "ipython",
    "version": 3
   },
   "file_extension": ".py",
   "mimetype": "text/x-python",
   "name": "python",
   "nbconvert_exporter": "python",
   "pygments_lexer": "ipython3",
   "version": "3.13.7"
  }
 },
 "nbformat": 4,
 "nbformat_minor": 5
}
